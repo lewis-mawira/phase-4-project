{
 "cells": [
  {
   "cell_type": "markdown",
   "id": "6b0b5d77",
   "metadata": {},
   "source": [
    "[Link to slides presentation](https://www.canva.com/design/DAFusLcUUP4/_ooZNiy1bSBSV1TmIGS-Mg/edit?utm_content=DAFusLcUUP4&utm_campaign=designshare&utm_medium=link2&utm_source=sharebutton)"
   ]
  }
 ],
 "metadata": {
  "kernelspec": {
   "display_name": "Python 3 (ipykernel)",
   "language": "python",
   "name": "python3"
  },
  "language_info": {
   "codemirror_mode": {
    "name": "ipython",
    "version": 3
   },
   "file_extension": ".py",
   "mimetype": "text/x-python",
   "name": "python",
   "nbconvert_exporter": "python",
   "pygments_lexer": "ipython3",
   "version": "3.11.3"
  }
 },
 "nbformat": 4,
 "nbformat_minor": 5
}
